{
 "metadata": {
  "language_info": {
   "codemirror_mode": {
    "name": "ipython",
    "version": 3
   },
   "file_extension": ".py",
   "mimetype": "text/x-python",
   "name": "python",
   "nbconvert_exporter": "python",
   "pygments_lexer": "ipython3",
   "version": "3.8.2-final"
  },
  "orig_nbformat": 2,
  "kernelspec": {
   "name": "python3",
   "display_name": "Python 3"
  }
 },
 "nbformat": 4,
 "nbformat_minor": 2,
 "cells": [
  {
   "cell_type": "code",
   "execution_count": 12,
   "metadata": {
    "tags": []
   },
   "outputs": [],
   "source": [
    "import pandas as pd\n",
    "import math\n",
    "dS = pd.read_csv('resident.csv')\n",
    "def minmax(dS):\n",
    "    for attr in dS.columns[:-1]:\n",
    "        minimum = min(dS[attr])\n",
    "        maximum = max(dS[attr])\n",
    "        for i in range(len(dS)):\n",
    "            value = dS.loc[i,attr]\n",
    "            newValue = (value - minimum)/(maximum - minimum)\n",
    "            dS.loc[i,attr] = newValue.__round__(3)\n",
    "    return dS\n"
   ]
  },
  {
   "cell_type": "code",
   "execution_count": null,
   "metadata": {},
   "outputs": [],
   "source": []
  }
 ]
}