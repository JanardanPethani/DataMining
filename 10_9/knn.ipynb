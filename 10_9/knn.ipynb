{
 "metadata": {
  "language_info": {
   "codemirror_mode": {
    "name": "ipython",
    "version": 3
   },
   "file_extension": ".py",
   "mimetype": "text/x-python",
   "name": "python",
   "nbconvert_exporter": "python",
   "pygments_lexer": "ipython3",
   "version": "3.8.2-final"
  },
  "orig_nbformat": 2,
  "kernelspec": {
   "name": "python3",
   "display_name": "Python 3"
  }
 },
 "nbformat": 4,
 "nbformat_minor": 2,
 "cells": [
  {
   "cell_type": "code",
   "execution_count": 64,
   "metadata": {
    "tags": []
   },
   "outputs": [],
   "source": [
    "import pandas as pd\n",
    "import math\n",
    "dS = pd.read_csv('resident.csv')\n",
    "mainAttr = list(dS.columns[:-1])\n",
    "lastCol = dS.columns[-1]\n",
    "# dS.iloc[1,-1]"
   ]
  },
  {
   "cell_type": "code",
   "execution_count": 65,
   "metadata": {},
   "outputs": [],
   "source": [
    "def takeIp(dS):\n",
    "    ip = {}\n",
    "    k = input(\"k :\")\n",
    "    for attr in dS.columns[:-1]:\n",
    "        # print(attr)\n",
    "        ip[attr] = int(input(f\"for {attr}: \"))\n",
    "    return ip,k\n"
   ]
  },
  {
   "cell_type": "code",
   "execution_count": 66,
   "metadata": {
    "tags": []
   },
   "outputs": [],
   "source": [
    "iD,k = takeIp(dS)"
   ]
  },
  {
   "cell_type": "code",
   "execution_count": 67,
   "metadata": {},
   "outputs": [],
   "source": [
    "def euclidion(dS,iD={}):\n",
    "    ans = {}\n",
    "    array = dS.to_numpy()\n",
    "    rowNo = 0\n",
    "    print(array)\n",
    "    for row in array:\n",
    "        cal = 0\n",
    "        i = 0\n",
    "        for attr in mainAttr:\n",
    "            cal += math.pow((int(row[i]) - int(iD[attr])),2)\n",
    "            i += 1\n",
    "        ans[rowNo] = cal\n",
    "        rowNo += 1\n",
    "    slst = sorted(ans,key = lambda x : ans[1])\n",
    "    return slst\n"
   ]
  },
  {
   "cell_type": "code",
   "execution_count": 68,
   "metadata": {
    "tags": []
   },
   "outputs": [
    {
     "output_type": "stream",
     "name": "stdout",
     "text": "[[25 40000 'n']\n [35 60000 'n']\n [45 80000 'n']\n [20 20000 'n']\n [35 120000 'n']\n [52 18000 'n']\n [23 95000 'y']\n [40 62000 'y']\n [60 100000 'y']\n [48 220000 'y']\n [33 150000 'y']]\n"
    }
   ],
   "source": [
    "eulst = euclidion(dS,iD)\n",
    "# print(lst)"
   ]
  },
  {
   "cell_type": "code",
   "execution_count": 69,
   "metadata": {},
   "outputs": [],
   "source": [
    "def takeDicision(k,distance,dS):\n",
    "    valueDic = {}\n",
    "    newlst = distance[:k]\n",
    "    for value in newlst:\n",
    "        valueDic[dS.iloc[value[0],-1]] = valueDic.get(dS.iloc[value[0],-1],0) + 1\n",
    "    print(valueDic)\n",
    "    return max(valueDic,  key=valueDic.get)\n"
   ]
  },
  {
   "cell_type": "code",
   "execution_count": 70,
   "metadata": {
    "tags": []
   },
   "outputs": [
    {
     "output_type": "stream",
     "name": "stdout",
     "text": "{'y': 2, 'n': 1}\n"
    }
   ],
   "source": [
    "ans = takeDicision(int(k),eulst,dS)"
   ]
  }
 ]
}